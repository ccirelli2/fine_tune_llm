{
 "cells": [
  {
   "cell_type": "code",
   "execution_count": 1,
   "id": "95aaf842-5d55-4120-956d-1a734a60f7c1",
   "metadata": {},
   "outputs": [],
   "source": [
    "import re\n",
    "import os"
   ]
  },
  {
   "cell_type": "code",
   "execution_count": 2,
   "id": "3fb036b6-01e7-45f3-af86-a80f00727e31",
   "metadata": {},
   "outputs": [],
   "source": [
    "directory = \"/Users/temp-admin/repositories/fine_tune_llm/data/text/raw\""
   ]
  },
  {
   "cell_type": "code",
   "execution_count": 3,
   "id": "d858e3b9-76bb-4e3d-a313-4d68fdb2c853",
   "metadata": {},
   "outputs": [
    {
     "data": {
      "text/plain": [
       "True"
      ]
     },
     "execution_count": 3,
     "metadata": {},
     "output_type": "execute_result"
    }
   ],
   "source": [
    "files = os.listdir(directory)\n",
    "file_n = \"0001373715-15-000260.txt\"\n",
    "path = os.path.join(directory, file_n)\n",
    "os.path.exists(path)"
   ]
  },
  {
   "cell_type": "code",
   "execution_count": 4,
   "id": "0de3c6b3-2629-4974-bc1e-0e569b02ae6e",
   "metadata": {},
   "outputs": [],
   "source": [
    "with open(path, 'r') as f:\n",
    "    text = f.read()"
   ]
  },
  {
   "cell_type": "code",
   "execution_count": 5,
   "id": "e1a066a4-6260-4c83-a587-51487ab9eca7",
   "metadata": {},
   "outputs": [
    {
     "name": "stdout",
     "output_type": "stream",
     "text": [
      "xtBlock_3E3D43C2022A9B6EF4CE96A12C8DE32F\" xlink:type=\"locator\" />\n",
      "    <presentationArc order=\"5\" preferredLabel=\"http://www.xbrl.org/2003/role/terseLabel\" xlink:arcrole=\"http://www.xbrl.org/2003/arcrole/parent-child\" xlink:from=\"loc_us-gaap_AccountingPoliciesAbstract_166648325E0928AF7BB796A12C8D588E\" xlink:to=\"loc_us-gaap_NewAccountingPronouncementsPolicyPolicyTextBlock_3E3D43C2022A9B6EF4CE96A12C8DE32F\" xlink:type=\"arc\" />\n",
      "  </presentationLink>\n",
      "</linkbase>\n",
      "</XBRL>\n",
      "</TEXT>\n",
      "</DOCUMENT>\n",
      "<DOCUMENT>\n",
      "<TYPE>GRAPHIC\n",
      "<SEQUENCE>12\n",
      "<FILENAME>sncrlogostandarda01.jpg\n",
      "<TEXT>\n",
      "begin 644 sncrlogostandarda01.jpg\n",
      "M_]C_X  02D9)1@ ! 0$ 8 !@  #_X0!817AI9@  34T *@    @ ! $Q  (\n",
      "M   1    /E$0  $    ! 0   %$1  0    !     %$2  0    !\n",
      "M  !!9&]B92!);6%G95)E861Y  #_VP!#  (! 0(! 0(\" @(\" @(\" P4# P,#\n",
      "M P8$! ,%!P8'!P<&!P<(\"0L)\" @*\" <'\"@T*\"@L,# P,!PD.#PT,#@L,# S_\n",
      "MVP!# 0(\" @,# P8# P8,\" <(# P,# P,# P,# P,# P,# P,# P,# P,# P,\n",
      "M# P,# P,# P,# P,# P,# P,# P,# S_P  1\"  F .(# 2(  A$! Q$!_\\0\n",
      "M'P   04! 0$! 0$           $\" P0%!@<\n"
     ]
    }
   ],
   "source": [
    "buffer = 500\n",
    "print(text[text.find('<TYPE>GRAPHIC') - buffer: text.find('<TYPE>GRAPHIC') + buffer])"
   ]
  },
  {
   "cell_type": "code",
   "execution_count": 6,
   "id": "433e0f38-b8d5-4c6e-970e-8ad0ccadad53",
   "metadata": {},
   "outputs": [],
   "source": [
    "pattern = re.compile(r'(<TYPE>(GRAPHIC|EXCEL|ZIP).*?<TEXT>\\s*begin)(.*?)(end)', re.DOTALL)"
   ]
  },
  {
   "cell_type": "code",
   "execution_count": 7,
   "id": "c24784af-f2eb-4128-94df-502df665b7a0",
   "metadata": {},
   "outputs": [],
   "source": [
    "matches = pattern.findall(text)"
   ]
  },
  {
   "cell_type": "code",
   "execution_count": 8,
   "id": "cd4f0527-7a5b-4d8d-8e78-23f16781122e",
   "metadata": {},
   "outputs": [],
   "source": [
    "text = pattern.sub(r'\\1\\nend', text)"
   ]
  },
  {
   "cell_type": "code",
   "execution_count": 9,
   "id": "bc4387d6-20c3-4334-8c6e-afd989b30a72",
   "metadata": {},
   "outputs": [
    {
     "name": "stdout",
     "output_type": "stream",
     "text": [
      "xtBlock_3E3D43C2022A9B6EF4CE96A12C8DE32F\" xlink:type=\"locator\" />\n",
      "    <presentationArc order=\"5\" preferredLabel=\"http://www.xbrl.org/2003/role/terseLabel\" xlink:arcrole=\"http://www.xbrl.org/2003/arcrole/parent-child\" xlink:from=\"loc_us-gaap_AccountingPoliciesAbstract_166648325E0928AF7BB796A12C8D588E\" xlink:to=\"loc_us-gaap_NewAccountingPronouncementsPolicyPolicyTextBlock_3E3D43C2022A9B6EF4CE96A12C8DE32F\" xlink:type=\"arc\" />\n",
      "  </presentationLink>\n",
      "</linkbase>\n",
      "</XBRL>\n",
      "</TEXT>\n",
      "</DOCUMENT>\n",
      "<DOCUMENT>\n",
      "<TYPE>GRAPHIC\n",
      "<SEQUENCE>12\n",
      "<FILENAME>sncrlogostandarda01.jpg\n",
      "<TEXT>\n",
      "begin\n",
      "end\n",
      "</TEXT>\n",
      "</DOCUMENT>\n",
      "<DOCUMENT>\n",
      "<TYPE>XML\n",
      "<SEQUENCE>13\n",
      "<FILENAME>R39.htm\n",
      "<DESCRIPTION>IDEA: XBRL DOCUMENT\n",
      "<TEXT>\n",
      "<html>\n",
      "<head>\n",
      "<title></title>\n",
      "<link rel=\"stylesheet\" type=\"text/css\" href=\"report.css\">\n",
      "<script type=\"text/javascript\" src=\"Show.js\">/* Do Not Remove This Comment */</script><script type=\"text/javascript\">\n",
      "\t\t\t\t\t\t\tfunction toggleNextSibling (e) {\n",
      "\t\t\t\t\t\t\tif (e.nextSibling.style.display=='none') {\n",
      "\t\t\t\t\t\t\te.nextS\n"
     ]
    }
   ],
   "source": [
    "print(text[text.find('<TYPE>GRAPHIC') - buffer: text.find('<TYPE>GRAPHIC') + buffer])"
   ]
  },
  {
   "cell_type": "code",
   "execution_count": null,
   "id": "c4ccf4fb-9b15-4c0a-aafe-36a0f050f177",
   "metadata": {},
   "outputs": [],
   "source": []
  }
 ],
 "metadata": {
  "kernelspec": {
   "display_name": "Python 3 (ipykernel)",
   "language": "python",
   "name": "python3"
  },
  "language_info": {
   "codemirror_mode": {
    "name": "ipython",
    "version": 3
   },
   "file_extension": ".py",
   "mimetype": "text/x-python",
   "name": "python",
   "nbconvert_exporter": "python",
   "pygments_lexer": "ipython3",
   "version": "3.12.4"
  }
 },
 "nbformat": 4,
 "nbformat_minor": 5
}
