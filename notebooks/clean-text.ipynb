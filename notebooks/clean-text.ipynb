{
 "cells": [
  {
   "cell_type": "code",
   "execution_count": 1,
   "id": "95aaf842-5d55-4120-956d-1a734a60f7c1",
   "metadata": {},
   "outputs": [],
   "source": [
    "import re\n",
    "import os"
   ]
  },
  {
   "cell_type": "code",
   "execution_count": 2,
   "id": "3fb036b6-01e7-45f3-af86-a80f00727e31",
   "metadata": {},
   "outputs": [],
   "source": [
    "directory = \"/Users/temp-admin/repositories/fine_tune_llm/data/text/raw\""
   ]
  },
  {
   "cell_type": "code",
   "execution_count": 3,
   "id": "d858e3b9-76bb-4e3d-a313-4d68fdb2c853",
   "metadata": {},
   "outputs": [
    {
     "data": {
      "text/plain": [
       "True"
      ]
     },
     "execution_count": 3,
     "metadata": {},
     "output_type": "execute_result"
    }
   ],
   "source": [
    "files = os.listdir(directory)\n",
    "file_n = \"0000835357-23-000010.txt\"\n",
    "path = os.path.join(directory, file_n)\n",
    "os.path.exists(path)"
   ]
  },
  {
   "cell_type": "code",
   "execution_count": 4,
   "id": "0de3c6b3-2629-4974-bc1e-0e569b02ae6e",
   "metadata": {},
   "outputs": [],
   "source": [
    "with open(path, 'r') as f:\n",
    "    text = f.read()"
   ]
  },
  {
   "cell_type": "markdown",
   "id": "5cf13fea-0937-41b6-9439-bc0e9081fd0f",
   "metadata": {},
   "source": [
    "### Find XBLR Tags"
   ]
  },
  {
   "cell_type": "code",
   "execution_count": 5,
   "id": "c9b306ca-2d45-4992-a7ca-3493d0f81e90",
   "metadata": {},
   "outputs": [
    {
     "name": "stdout",
     "output_type": "stream",
     "text": [
      "\t10104\n",
      "\t\tBUSINESS PHONE:\t\t2125541234\n",
      "\n",
      "\tMAIL ADDRESS:\t\n",
      "\t\tSTREET 1:\t\t1290 AVENUE OF THE AMERICAS\n",
      "\t\tSTREET 2:\t\tMAIL STOP 11-18\n",
      "\t\tCITY:\t\t\tNEW YORK\n",
      "\t\tSTATE:\t\t\tNY\n",
      "\t\tZIP:\t\t\t10104\n",
      "\n",
      "\tFORMER COMPANY:\t\n",
      "\t\tFORMER CONFORMED NAME:\tMONY LIFE INSURANCE CO OF AMERICA\n",
      "\t\tDATE OF NAME CHANGE:\t20041208\n",
      "\n",
      "\tFORMER COMPANY:\t\n",
      "\t\tFORMER CONFORMED NAME:\tMONY LIFE INSURANCE COMPANY OF AMERICA\n",
      "\t\tDATE OF NAME CHANGE:\t19981002\n",
      "</SEC-HEADER>\n",
      "<DOCUMENT>\n",
      "<TYPE>8-K\n",
      "<SEQUENCE>1\n",
      "<FILENAME>efloa-20230517_d2.htm\n",
      "<DESCRIPTION>8-K\n",
      "<TEXT>\n",
      "<XBRL>\n",
      "<?xml version=\"1.0\" ?><!--XBRL Document Created with Wdesk from Workiva--><!--Copyright 2023 Workiva--><!--r:3936a46c-d83e-41a5-90fb-3cd65935f2e5,g:6337911d-2d21-4e5a-a672-424ec7d9f3b0,d:e49d4f99ffe447f9a265a659d26033ce--><html xmlns:xbrli=\"http://www.xbrl.org/2003/instance\" xmlns=\"http://www.w3.org/1999/xhtml\" xmlns:xlink=\"http://www.w3.org/1999/xlink\" xmlns:ix=\"http://www.xbrl.org/2013/inlineXBRL\" xmlns:xsi=\"http://www.w3.org/2001/XMLSchema-instance\" xmlns:us-gaap=\"http://fasb.org/us-ga\n"
     ]
    }
   ],
   "source": [
    "buffer = 500\n",
    "print(text[text.find(\"<XBRL>\") - buffer: text.find(\"<XBRL>\") + buffer])"
   ]
  },
  {
   "cell_type": "code",
   "execution_count": null,
   "id": "ef727be9-1b87-4d0d-8da5-9670d565fe98",
   "metadata": {},
   "outputs": [],
   "source": []
  },
  {
   "cell_type": "markdown",
   "id": "061b9d1f-6f1d-455b-98fc-99ad22d747ce",
   "metadata": {},
   "source": [
    "### Strip XBRL Tags"
   ]
  },
  {
   "cell_type": "code",
   "execution_count": 8,
   "id": "433e0f38-b8d5-4c6e-970e-8ad0ccadad53",
   "metadata": {},
   "outputs": [],
   "source": [
    "pattern = re.compile(r'<XBRL>.*</XBRL>', re.DOTALL)\n",
    "text = re.sub(pattern, '', text)"
   ]
  },
  {
   "cell_type": "code",
   "execution_count": null,
   "id": "74bdd171-6c00-4767-a850-61d89b3657cd",
   "metadata": {},
   "outputs": [],
   "source": []
  },
  {
   "cell_type": "code",
   "execution_count": 12,
   "id": "1941961e-da10-4444-bbdd-64b114a39bb5",
   "metadata": {},
   "outputs": [],
   "source": [
    "pattern = re.compile('<TYPE>GRAPHIC|EXCEL|ZIP.*</DOCUMENT>')\n",
    "text = re.sub(pattern, '', text)"
   ]
  },
  {
   "cell_type": "code",
   "execution_count": 13,
   "id": "5c16dd49-a762-4689-bb06-37c592d9740f",
   "metadata": {},
   "outputs": [
    {
     "name": "stdout",
     "output_type": "stream",
     "text": [
      "\n"
     ]
    }
   ],
   "source": [
    "print(text[text.find(\"<TYPE>GRAPHIC\") - buffer: text.find(\"<TYPE>GRAPHIC\") + buffer])"
   ]
  },
  {
   "cell_type": "code",
   "execution_count": 7,
   "id": "bc4387d6-20c3-4334-8c6e-afd989b30a72",
   "metadata": {},
   "outputs": [
    {
     "name": "stdout",
     "output_type": "stream",
     "text": [
      "\n"
     ]
    }
   ],
   "source": [
    "print(text[text.find(\"<XBRL>\") - buffer: text.find(\"<XBRL>\") + buffer])"
   ]
  },
  {
   "cell_type": "markdown",
   "id": "1a83182b-b9aa-4903-9c84-a44bfbf66ba5",
   "metadata": {},
   "source": [
    "### Strip XML"
   ]
  },
  {
   "cell_type": "code",
   "execution_count": 11,
   "id": "72be6da3-6a33-4c2f-9a5e-d818820b274b",
   "metadata": {},
   "outputs": [],
   "source": [
    "pattern = re.compile(r'<TYPE>XML.*</DOCUMENT>', re.DOTALL)\n",
    "text = re.sub(pattern, '', text)"
   ]
  },
  {
   "cell_type": "code",
   "execution_count": 12,
   "id": "c4ccf4fb-9b15-4c0a-aafe-36a0f050f177",
   "metadata": {},
   "outputs": [
    {
     "name": "stdout",
     "output_type": "stream",
     "text": [
      "\n"
     ]
    }
   ],
   "source": [
    "print(text[text.find(\"<TYPE>XML\") - buffer: text.find(\"<TYPE>XML.\") + buffer])"
   ]
  },
  {
   "cell_type": "markdown",
   "id": "a55a58fa-1968-4ed7-a707-6aa4ee0a34ce",
   "metadata": {},
   "source": [
    "### Find GRAPHIC DOCUMENTS"
   ]
  },
  {
   "cell_type": "code",
   "execution_count": 16,
   "id": "c0992a76-a6a1-4246-9f0b-49af8851a57a",
   "metadata": {},
   "outputs": [],
   "source": [
    "pattern = re.compile(r'<TYPE>GRAPHIC.*</DOCUMENT>', re.DOTALL)\n",
    "text = re.sub(pattern, '', text)\n"
   ]
  },
  {
   "cell_type": "code",
   "execution_count": 17,
   "id": "97940d98-34da-40d8-ade7-66e5e53ddac0",
   "metadata": {},
   "outputs": [
    {
     "data": {
      "text/plain": [
       "-1"
      ]
     },
     "execution_count": 17,
     "metadata": {},
     "output_type": "execute_result"
    }
   ],
   "source": [
    "text.find(\"GRAPHIC\")"
   ]
  },
  {
   "cell_type": "code",
   "execution_count": null,
   "id": "7cbef45c-eaed-4878-a848-27bc6d0ee306",
   "metadata": {},
   "outputs": [],
   "source": []
  },
  {
   "cell_type": "code",
   "execution_count": null,
   "id": "fcaba522-de8b-4bc0-a420-b8e891b04b9d",
   "metadata": {},
   "outputs": [],
   "source": []
  }
 ],
 "metadata": {
  "kernelspec": {
   "display_name": "Python 3 (ipykernel)",
   "language": "python",
   "name": "python3"
  },
  "language_info": {
   "codemirror_mode": {
    "name": "ipython",
    "version": 3
   },
   "file_extension": ".py",
   "mimetype": "text/x-python",
   "name": "python",
   "nbconvert_exporter": "python",
   "pygments_lexer": "ipython3",
   "version": "3.12.4"
  }
 },
 "nbformat": 4,
 "nbformat_minor": 5
}
