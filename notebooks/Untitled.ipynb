{
 "cells": [
  {
   "cell_type": "code",
   "execution_count": 1,
   "id": "6ff25ff4-297b-4019-bcf3-e6af2bc0726a",
   "metadata": {},
   "outputs": [],
   "source": [
    "import os\n",
    "import pandas as pd"
   ]
  },
  {
   "cell_type": "code",
   "execution_count": null,
   "id": "d89312bb-0e70-415d-beb0-1c5f84dba81c",
   "metadata": {},
   "outputs": [],
   "source": []
  },
  {
   "cell_type": "code",
   "execution_count": 2,
   "id": "522d3cb8-e505-44b1-9ee0-3d85801d9efb",
   "metadata": {},
   "outputs": [],
   "source": [
    "DIR = \"/Users/temp-admin/repositories/fine_tune_llm/data/validation/clean\""
   ]
  },
  {
   "cell_type": "code",
   "execution_count": 19,
   "id": "141711c9-cf1e-46c7-af35-0f4d1b321991",
   "metadata": {},
   "outputs": [],
   "source": [
    "FILE = \"tag.csv\""
   ]
  },
  {
   "cell_type": "code",
   "execution_count": null,
   "id": "5e07bb8a-1295-4231-ac6d-b2518878dce1",
   "metadata": {},
   "outputs": [],
   "source": []
  },
  {
   "cell_type": "code",
   "execution_count": 20,
   "id": "7a2bfff4-4974-4c9f-a81f-fc01a3f98801",
   "metadata": {},
   "outputs": [],
   "source": [
    "df = pd.read_csv(os.path.join(DIR, FILE), nrows=10)"
   ]
  },
  {
   "cell_type": "code",
   "execution_count": 21,
   "id": "6b0564d0-c88f-4f4a-855b-a4676d7d6798",
   "metadata": {},
   "outputs": [
    {
     "data": {
      "text/plain": [
       "Index(['Unnamed: 0', 'tag', 'version', 'custom', 'abstract', 'datatype',\n",
       "       'iord', 'crdr', 'tlabel', 'doc'],\n",
       "      dtype='object')"
      ]
     },
     "execution_count": 21,
     "metadata": {},
     "output_type": "execute_result"
    }
   ],
   "source": [
    "df.columns"
   ]
  },
  {
   "cell_type": "code",
   "execution_count": 18,
   "id": "04093149-9c74-4af6-b9ee-658b40048f14",
   "metadata": {},
   "outputs": [
    {
     "data": {
      "text/html": [
       "<div>\n",
       "<style scoped>\n",
       "    .dataframe tbody tr th:only-of-type {\n",
       "        vertical-align: middle;\n",
       "    }\n",
       "\n",
       "    .dataframe tbody tr th {\n",
       "        vertical-align: top;\n",
       "    }\n",
       "\n",
       "    .dataframe thead th {\n",
       "        text-align: right;\n",
       "    }\n",
       "</style>\n",
       "<table border=\"1\" class=\"dataframe\">\n",
       "  <thead>\n",
       "    <tr style=\"text-align: right;\">\n",
       "      <th></th>\n",
       "      <th>Unnamed: 0</th>\n",
       "      <th>adsh</th>\n",
       "      <th>cik</th>\n",
       "      <th>name</th>\n",
       "      <th>sic</th>\n",
       "      <th>countryba</th>\n",
       "      <th>stprba</th>\n",
       "      <th>cityba</th>\n",
       "      <th>zipba</th>\n",
       "      <th>bas1</th>\n",
       "      <th>...</th>\n",
       "      <th>period</th>\n",
       "      <th>fy</th>\n",
       "      <th>fp</th>\n",
       "      <th>filed</th>\n",
       "      <th>accepted</th>\n",
       "      <th>prevrpt</th>\n",
       "      <th>detail</th>\n",
       "      <th>instance</th>\n",
       "      <th>nciks</th>\n",
       "      <th>aciks</th>\n",
       "    </tr>\n",
       "  </thead>\n",
       "  <tbody>\n",
       "    <tr>\n",
       "      <th>0</th>\n",
       "      <td>0</td>\n",
       "      <td>0000004457-23-000026</td>\n",
       "      <td>4457</td>\n",
       "      <td>U-HAUL HOLDING CO /NV/</td>\n",
       "      <td>7510.0</td>\n",
       "      <td>US</td>\n",
       "      <td>NV</td>\n",
       "      <td>RENO</td>\n",
       "      <td>89511</td>\n",
       "      <td>5555 KIETZKE LANE STE 100</td>\n",
       "      <td>...</td>\n",
       "      <td>20230331.0</td>\n",
       "      <td>NaN</td>\n",
       "      <td>NaN</td>\n",
       "      <td>20230329</td>\n",
       "      <td>2023-03-29 16:05:00.0</td>\n",
       "      <td>0</td>\n",
       "      <td>0</td>\n",
       "      <td>uhal-20230323_htm.xml</td>\n",
       "      <td>1</td>\n",
       "      <td>NaN</td>\n",
       "    </tr>\n",
       "    <tr>\n",
       "      <th>1</th>\n",
       "      <td>1</td>\n",
       "      <td>0000005272-23-000014</td>\n",
       "      <td>5272</td>\n",
       "      <td>AMERICAN INTERNATIONAL GROUP, INC.</td>\n",
       "      <td>6331.0</td>\n",
       "      <td>US</td>\n",
       "      <td>NY</td>\n",
       "      <td>NEW YORK</td>\n",
       "      <td>10020-1304</td>\n",
       "      <td>1271 AVE OF THE AMERICAS</td>\n",
       "      <td>...</td>\n",
       "      <td>NaN</td>\n",
       "      <td>NaN</td>\n",
       "      <td>NaN</td>\n",
       "      <td>20230329</td>\n",
       "      <td>2023-03-29 16:44:00.0</td>\n",
       "      <td>0</td>\n",
       "      <td>0</td>\n",
       "      <td>aig-20230329_htm.xml</td>\n",
       "      <td>1</td>\n",
       "      <td>NaN</td>\n",
       "    </tr>\n",
       "  </tbody>\n",
       "</table>\n",
       "<p>2 rows × 37 columns</p>\n",
       "</div>"
      ],
      "text/plain": [
       "   Unnamed: 0                  adsh   cik                                name  \\\n",
       "0           0  0000004457-23-000026  4457              U-HAUL HOLDING CO /NV/   \n",
       "1           1  0000005272-23-000014  5272  AMERICAN INTERNATIONAL GROUP, INC.   \n",
       "\n",
       "      sic countryba stprba    cityba       zipba                       bas1  \\\n",
       "0  7510.0        US     NV      RENO       89511  5555 KIETZKE LANE STE 100   \n",
       "1  6331.0        US     NY  NEW YORK  10020-1304   1271 AVE OF THE AMERICAS   \n",
       "\n",
       "   ...      period  fy   fp     filed               accepted prevrpt detail  \\\n",
       "0  ...  20230331.0 NaN  NaN  20230329  2023-03-29 16:05:00.0       0      0   \n",
       "1  ...         NaN NaN  NaN  20230329  2023-03-29 16:44:00.0       0      0   \n",
       "\n",
       "                instance nciks aciks  \n",
       "0  uhal-20230323_htm.xml     1   NaN  \n",
       "1   aig-20230329_htm.xml     1   NaN  \n",
       "\n",
       "[2 rows x 37 columns]"
      ]
     },
     "execution_count": 18,
     "metadata": {},
     "output_type": "execute_result"
    }
   ],
   "source": [
    "df.head(2)"
   ]
  }
 ],
 "metadata": {
  "kernelspec": {
   "display_name": "Python 3 (ipykernel)",
   "language": "python",
   "name": "python3"
  },
  "language_info": {
   "codemirror_mode": {
    "name": "ipython",
    "version": 3
   },
   "file_extension": ".py",
   "mimetype": "text/x-python",
   "name": "python",
   "nbconvert_exporter": "python",
   "pygments_lexer": "ipython3",
   "version": "3.12.4"
  }
 },
 "nbformat": 4,
 "nbformat_minor": 5
}
